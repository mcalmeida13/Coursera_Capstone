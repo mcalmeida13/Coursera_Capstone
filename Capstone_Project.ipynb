{
  "nbformat": 4,
  "nbformat_minor": 0,
  "metadata": {
    "colab": {
      "name": "Capstone-Project.ipynb",
      "provenance": [],
      "authorship_tag": "ABX9TyOSQQkXTpxcfMSBMvB22qwN",
      "include_colab_link": true
    },
    "kernelspec": {
      "name": "python3",
      "display_name": "Python 3"
    }
  },
  "cells": [
    {
      "cell_type": "markdown",
      "metadata": {
        "id": "view-in-github",
        "colab_type": "text"
      },
      "source": [
        "<a href=\"https://colab.research.google.com/github/mcalmeida13/Coursera_Capstone/blob/master/Capstone_Project.ipynb\" target=\"_parent\"><img src=\"https://colab.research.google.com/assets/colab-badge.svg\" alt=\"Open In Colab\"/></a>"
      ]
    },
    {
      "cell_type": "markdown",
      "metadata": {
        "collapsed": true,
        "id": "HbJv3sjp0CdG",
        "colab_type": "text"
      },
      "source": [
        "# Capstone Project - Japanese Restaurants in São Paulo\n",
        "\n",
        "---\n",
        "\n",
        "\n",
        "### Applied Data Science Capstone by IBM/Coursera"
      ]
    },
    {
      "cell_type": "markdown",
      "metadata": {
        "id": "aabKogai0CdH",
        "colab_type": "text"
      },
      "source": [
        "## Table of contents\n",
        "* [Introduction](#introduction)\n",
        "* [About São Paulo](#sp)\n",
        "* [Business Problem](#business)\n",
        "* [Data](#data)\n",
        "* [Methodology](#methodology)\n",
        "* [Analysis](#analysis)\n",
        "* [Results and Discussion](#results)\n",
        "* [Conclusion](#conclusion)"
      ]
    },
    {
      "cell_type": "markdown",
      "metadata": {
        "id": "LwfbvvSR0CdI",
        "colab_type": "text"
      },
      "source": [
        "## Introduction"
      ]
    },
    {
      "cell_type": "markdown",
      "metadata": {
        "id": "P7kfxyoe914p",
        "colab_type": "text"
      },
      "source": [
        "## About São Paulo"
      ]
    },
    {
      "cell_type": "markdown",
      "metadata": {
        "id": "Ti3QAANO94Xz",
        "colab_type": "text"
      },
      "source": [
        "São Paulo is the biggest city in Brazil. As all metropolis around the world, it has a long history of international immigration and it is home to nearly 12.2 million people in 2018, accounting for over 27% of the population of São Paulo State.\n",
        "\n",
        "The city continues to be the leading metropolitan gateway for legal immigrants admitted into Brazil.\n",
        "\n",
        "São Paulo is known for its strong Asian culture, not only the one that came with Japanese immigrants but also Korean, Chinese, and many others.\n",
        "\n",
        "In 1908, the Japanese began to immigrate to Brazil, becoming the place with the highest number of Japanese people outside Japan. The Brazilian census agency calculated in 2017 there were around 1.5 million Japanese descendants living in Brazil.\n",
        "\n",
        "For many years, the Japanese culture was concentrated in São Paulo, in a neighborhood called 'Liberdade' ('Freedom' in Portuguese). There, the majority of the shops sell Asian related products. \n",
        "\n",
        "Nowadays, Japanese cooking is a Brazilian passion, and it gained lots of local adaptations."
      ]
    },
    {
      "cell_type": "markdown",
      "metadata": {
        "id": "TVDspRLF9r9r",
        "colab_type": "text"
      },
      "source": [
        "## Business Problem"
      ]
    },
    {
      "cell_type": "markdown",
      "metadata": {
        "id": "E0G7YKSP0CdJ",
        "colab_type": "text"
      },
      "source": [
        "In this project we will try to find an optimal location for a restaurant. Specifically, this report will be targeted to stakeholders interested in opening an **Japanese restaurant** in **São Paulo, Brazil**.\n",
        "\n",
        "Since there are lots of japanese restaurants in São Paulo we will try to detect **locations that are already crowded with japanese restaurants** and **locations that are not already crowded with japanese restaurants**. We are also particularly interested in **areas with no Japanese restaurants in vicinity**. We would also prefer locations **as close to city center as possible**, assuming that first two conditions are met.\n",
        "\n",
        "We will use our data science powers to generate a few most promissing neighborhoods based on this criteria. Advantages of each area will then be clearly expressed so that best possible final location can be chosen by stakeholders."
      ]
    },
    {
      "cell_type": "markdown",
      "metadata": {
        "id": "X5YaGgKK0CdK",
        "colab_type": "text"
      },
      "source": [
        "## 3. Data Collection\n",
        "\n",
        "Based on definition of our problem, factors that will influence our decission are:\n",
        "* number of existing restaurants in the neighborhood (any type of restaurant)\n",
        "* number of and distance to Japanese restaurants in the neighborhood, if any\n",
        "* distance of neighborhood from city center\n",
        "\n",
        "We decided to use regularly spaced grid of locations, centered around city center, to define our neighborhoods.\n",
        "\n",
        "Following data sources will be needed to extract/generate the required information:\n",
        "\n",
        "São Paulo's information about neighborhoods and boroughs will be obtained from the data source: https://en.wikipedia.org/wiki/List_of_postal_codes_in_Brazil\n",
        "\n",
        "All data related to locations and quality of Japanese restaurants will be obtained via the FourSquare API utilized via the Request library in Python.\n",
        "\n",
        "## 4. Methodology\n",
        "\n",
        "* Data fom São Paulo will be collected, cleaned and processed into a dataframe.\n",
        "*  FourSquare be used to locate all venues and then filtered by Japanese restaurants. Ratings, tips, and likes by users will be counted and added to the dataframe.\n",
        "* Data will be sorted based on rankings.\n",
        "*  Finally, the data will be visually assessed using graphing from Python libraries.\n"
      ]
    },
    {
      "cell_type": "markdown",
      "metadata": {
        "id": "fxjUqM0m0CdL",
        "colab_type": "text"
      },
      "source": [
        "### Neighborhood Candidates\n",
        "\n",
        "Let's create latitude & longitude coordinates for centroids of our candidate neighborhoods. We will create a grid of cells covering our area of interest which is aprox. 12x12 killometers centered around Liberdade, São Paulo's Neighborhood.\n"
      ]
    },
    {
      "cell_type": "code",
      "metadata": {
        "id": "S8xKsriNJwb8",
        "colab_type": "code",
        "colab": {}
      },
      "source": [
        "%matplotlib inline\n",
        "import pandas as pd # library for data analsysis\n",
        "import numpy as np\n",
        "from bs4 import BeautifulSoup # library for pulling data out of HTML and XML files\n",
        "\n",
        "from geopy.geocoders import Nominatim # convert an address into latitude and longitude values\n",
        "import requests # library to handle requests\n",
        "import json # library to handle JSON files\n",
        "from pandas.io.json import json_normalize # tranform JSON file into a pandas dataframe\n",
        "# Matplotlib and associated plotting modules\n",
        "import matplotlib.cm as cm\n",
        "import matplotlib.pyplot as plt\n",
        "\n",
        "import matplotlib.colors as colors\n",
        "\n",
        "# import k-means from clustering stage\n",
        "from sklearn.cluster import KMeans\n",
        "\n",
        "import folium # map rendering library"
      ],
      "execution_count": 46,
      "outputs": []
    },
    {
      "cell_type": "markdown",
      "metadata": {
        "id": "YnyLgtaIz1QS",
        "colab_type": "text"
      },
      "source": [
        "In order to define an instance of the geocoder, we need to define a user_agent. We will name our agent <em>foursquare_agent</em>, as shown below."
      ]
    },
    {
      "cell_type": "code",
      "metadata": {
        "button": false,
        "deletable": true,
        "jupyter": {
          "outputs_hidden": false
        },
        "new_sheet": false,
        "run_control": {
          "read_only": false
        },
        "id": "ijdHf_XJz1QM",
        "colab_type": "code",
        "colab": {
          "base_uri": "https://localhost:8080/",
          "height": 67
        },
        "outputId": "b2b1a99e-280f-4daf-cf31-e8f2af5a4dd3"
      },
      "source": [
        "CLIENT_ID = 'K1PZL4VGIDCPSFOVFCIGIT4ARIHQE4SFZO1F1BYUA2XXU0RL' # your Foursquare ID\n",
        "CLIENT_SECRET = 'EJTRPC20QXKD25FOOXWMRDAUV2BLKSQND1ZII5ARD5UP1241' # your Foursquare Secret\n",
        "VERSION = '20180604'\n",
        "print('Your credentails:')\n",
        "print('CLIENT_ID: ' + CLIENT_ID)\n",
        "print('CLIENT_SECRET:' + CLIENT_SECRET)"
      ],
      "execution_count": 2,
      "outputs": [
        {
          "output_type": "stream",
          "text": [
            "Your credentails:\n",
            "CLIENT_ID: K1PZL4VGIDCPSFOVFCIGIT4ARIHQE4SFZO1F1BYUA2XXU0RL\n",
            "CLIENT_SECRET:EJTRPC20QXKD25FOOXWMRDAUV2BLKSQND1ZII5ARD5UP1241\n"
          ],
          "name": "stdout"
        }
      ]
    },
    {
      "cell_type": "code",
      "metadata": {
        "button": false,
        "deletable": true,
        "jupyter": {
          "outputs_hidden": false
        },
        "new_sheet": false,
        "run_control": {
          "read_only": false
        },
        "id": "zJWwl8Urz1QT",
        "colab_type": "code",
        "colab": {}
      },
      "source": [
        "def geo_location(address):\n",
        "    # get geo location of address\n",
        "    geolocator = Nominatim(user_agent=\"foursquare_agent\")\n",
        "    location = geolocator.geocode(address)\n",
        "    latitude = location.latitude\n",
        "    longitude = location.longitude\n",
        "    return latitude,longitude\n",
        "\n",
        "\n",
        "def get_venues(lat,lng):\n",
        "    #set variables\n",
        "    radius=400\n",
        "    LIMIT=100\n",
        "    #url to fetch data from foursquare api\n",
        "    url = 'https://api.foursquare.com/v2/venues/explore?&client_id={}&client_secret={}&v={}&ll={},{}&radius={}&limit={}'.format(\n",
        "            CLIENT_ID, \n",
        "            CLIENT_SECRET, \n",
        "            VERSION, \n",
        "            lat, \n",
        "            lng, \n",
        "            radius, \n",
        "            LIMIT)\n",
        "    # get all the data\n",
        "    results = requests.get(url).json()\n",
        "    venue_data=results['response']['groups'][0]['items']\n",
        "    venue_details=[]\n",
        "    for row in venue_data:\n",
        "        try:\n",
        "            venue_id=row['venue']['id']\n",
        "            venue_name=row['venue']['name']\n",
        "            venue_category=row['venue']['categories'][0]['name']\n",
        "            venue_details.append([venue_id,venue_name,venue_category])\n",
        "        except KeyError:\n",
        "            pass\n",
        "    column_names=['ID','Name','Category']\n",
        "    df = pd.DataFrame(venue_details,columns=column_names)\n",
        "    return df\n",
        "\n",
        "\n",
        "def get_venue_details(venue_id):\n",
        "    #url to fetch data from foursquare api\n",
        "    url = 'https://api.foursquare.com/v2/venues/{}?&client_id={}&client_secret={}&v={}'.format(\n",
        "            venue_id,\n",
        "            CLIENT_ID, \n",
        "            CLIENT_SECRET, \n",
        "            VERSION)\n",
        "    # get all the data\n",
        "    results = requests.get(url).json()\n",
        "    print(results)\n",
        "    venue_data=results['response']['venue']\n",
        "    venue_details=[]\n",
        "    try:\n",
        "        venue_id=venue_data['id']\n",
        "        venue_name=venue_data['name']\n",
        "        venue_likes=venue_data['likes']['count']\n",
        "        venue_rating=venue_data['rating']\n",
        "        venue_tips=venue_data['tips']['count']\n",
        "        venue_details.append([venue_id,venue_name,venue_likes,venue_rating,venue_tips])\n",
        "    except KeyError:\n",
        "        pass\n",
        "    column_names=['ID','Name','Likes','Rating','Tips']\n",
        "    df = pd.DataFrame(venue_details,columns=column_names)\n",
        "    return df"
      ],
      "execution_count": 3,
      "outputs": []
    },
    {
      "cell_type": "markdown",
      "metadata": {
        "id": "imLW20RCVPiD",
        "colab_type": "text"
      },
      "source": [
        "# São Paulo Data"
      ]
    },
    {
      "cell_type": "code",
      "metadata": {
        "id": "JOWHtHGSJ4Vp",
        "colab_type": "code",
        "colab": {
          "base_uri": "https://localhost:8080/",
          "height": 197
        },
        "outputId": "e683ccf4-3ed2-4f5e-8296-58ddc52eb6b3"
      },
      "source": [
        "# Upload the Wikipedia page\n",
        "source = requests.get('https://en.wikipedia.org/wiki/List_of_postal_codes_in_Brazil#S%C3%A3o_Paulo').text\n",
        "soup = BeautifulSoup(source,'lxml')\n",
        "\n",
        "#extract all the <li> tags into a list\n",
        "tags = soup.find_all('li')\n",
        "\n",
        "table = []\n",
        "# identify tags\n",
        "for tag in tags:\n",
        "        table.append(tag.text)\n",
        "\n",
        "\n",
        "df = pd.DataFrame(table, columns = ['City'])\n",
        "sp = df[df['City'].str.contains('São Paulo')]\n",
        "sp.head()\n"
      ],
      "execution_count": 4,
      "outputs": [
        {
          "output_type": "execute_result",
          "data": {
            "text/html": [
              "<div>\n",
              "<style scoped>\n",
              "    .dataframe tbody tr th:only-of-type {\n",
              "        vertical-align: middle;\n",
              "    }\n",
              "\n",
              "    .dataframe tbody tr th {\n",
              "        vertical-align: top;\n",
              "    }\n",
              "\n",
              "    .dataframe thead th {\n",
              "        text-align: right;\n",
              "    }\n",
              "</style>\n",
              "<table border=\"1\" class=\"dataframe\">\n",
              "  <thead>\n",
              "    <tr style=\"text-align: right;\">\n",
              "      <th></th>\n",
              "      <th>City</th>\n",
              "    </tr>\n",
              "  </thead>\n",
              "  <tbody>\n",
              "    <tr>\n",
              "      <th>1</th>\n",
              "      <td>2 By states and parts\\n\\n2.1 Acre\\n2.2 Alagoas...</td>\n",
              "    </tr>\n",
              "    <tr>\n",
              "      <th>74</th>\n",
              "      <td>2.24 São Paulo\\n\\n2.24.1 01000s\\n2.24.2 02000s...</td>\n",
              "    </tr>\n",
              "    <tr>\n",
              "      <th>98</th>\n",
              "      <td>01000-000 to 09999-999 - São Paulo Metropolita...</td>\n",
              "    </tr>\n",
              "    <tr>\n",
              "      <th>99</th>\n",
              "      <td>11000-000 to 19999-999 - State of São Paulo</td>\n",
              "    </tr>\n",
              "    <tr>\n",
              "      <th>689</th>\n",
              "      <td>01000-xxx - São Paulo</td>\n",
              "    </tr>\n",
              "  </tbody>\n",
              "</table>\n",
              "</div>"
            ],
            "text/plain": [
              "                                                  City\n",
              "1    2 By states and parts\\n\\n2.1 Acre\\n2.2 Alagoas...\n",
              "74   2.24 São Paulo\\n\\n2.24.1 01000s\\n2.24.2 02000s...\n",
              "98   01000-000 to 09999-999 - São Paulo Metropolita...\n",
              "99         11000-000 to 19999-999 - State of São Paulo\n",
              "689                              01000-xxx - São Paulo"
            ]
          },
          "metadata": {
            "tags": []
          },
          "execution_count": 4
        }
      ]
    },
    {
      "cell_type": "markdown",
      "metadata": {
        "id": "5AxuyHDtV8cN",
        "colab_type": "text"
      },
      "source": [
        "## Cleaning Data"
      ]
    },
    {
      "cell_type": "code",
      "metadata": {
        "id": "I4ez-3U3K8DQ",
        "colab_type": "code",
        "colab": {
          "base_uri": "https://localhost:8080/",
          "height": 197
        },
        "outputId": "b8e7e343-8c72-4f93-f666-aa147cc32da8"
      },
      "source": [
        "sp = sp[5:]\n",
        "cep = sp['City'].apply(lambda x: x.split('-')[0])\n",
        "bairro = sp['City'].apply(lambda x: x.split('-')[-1])\n",
        "sp['Cep'] = cep\n",
        "sp['Região'] = bairro\n",
        "sp.head()"
      ],
      "execution_count": 5,
      "outputs": [
        {
          "output_type": "execute_result",
          "data": {
            "text/html": [
              "<div>\n",
              "<style scoped>\n",
              "    .dataframe tbody tr th:only-of-type {\n",
              "        vertical-align: middle;\n",
              "    }\n",
              "\n",
              "    .dataframe tbody tr th {\n",
              "        vertical-align: top;\n",
              "    }\n",
              "\n",
              "    .dataframe thead th {\n",
              "        text-align: right;\n",
              "    }\n",
              "</style>\n",
              "<table border=\"1\" class=\"dataframe\">\n",
              "  <thead>\n",
              "    <tr style=\"text-align: right;\">\n",
              "      <th></th>\n",
              "      <th>City</th>\n",
              "      <th>Cep</th>\n",
              "      <th>Região</th>\n",
              "    </tr>\n",
              "  </thead>\n",
              "  <tbody>\n",
              "    <tr>\n",
              "      <th>690</th>\n",
              "      <td>01010-xxx - São Paulo</td>\n",
              "      <td>01010</td>\n",
              "      <td>São Paulo</td>\n",
              "    </tr>\n",
              "    <tr>\n",
              "      <th>691</th>\n",
              "      <td>01060-xxx - São Paulo</td>\n",
              "      <td>01060</td>\n",
              "      <td>São Paulo</td>\n",
              "    </tr>\n",
              "    <tr>\n",
              "      <th>692</th>\n",
              "      <td>01070-xxx - São Paulo</td>\n",
              "      <td>01070</td>\n",
              "      <td>São Paulo</td>\n",
              "    </tr>\n",
              "    <tr>\n",
              "      <th>693</th>\n",
              "      <td>01080-xxx - São Paulo</td>\n",
              "      <td>01080</td>\n",
              "      <td>São Paulo</td>\n",
              "    </tr>\n",
              "    <tr>\n",
              "      <th>694</th>\n",
              "      <td>01090-xxx - São Paulo</td>\n",
              "      <td>01090</td>\n",
              "      <td>São Paulo</td>\n",
              "    </tr>\n",
              "  </tbody>\n",
              "</table>\n",
              "</div>"
            ],
            "text/plain": [
              "                      City    Cep      Região\n",
              "690  01010-xxx - São Paulo  01010   São Paulo\n",
              "691  01060-xxx - São Paulo  01060   São Paulo\n",
              "692  01070-xxx - São Paulo  01070   São Paulo\n",
              "693  01080-xxx - São Paulo  01080   São Paulo\n",
              "694  01090-xxx - São Paulo  01090   São Paulo"
            ]
          },
          "metadata": {
            "tags": []
          },
          "execution_count": 5
        }
      ]
    },
    {
      "cell_type": "code",
      "metadata": {
        "id": "m708U3CPMlq3",
        "colab_type": "code",
        "colab": {
          "base_uri": "https://localhost:8080/",
          "height": 197
        },
        "outputId": "f62316ca-4042-4d3c-e303-205001050d77"
      },
      "source": [
        "teste = sp['Região'].apply(lambda x: x.split('(')[0])\n",
        "teste2 = sp['Região'].apply(lambda x: x.split('(')[-1])\n",
        "sp['Região'] = teste\n",
        "sp['Bairro'] = teste2\n",
        "teste4 = sp['Bairro'].apply(lambda x: x.replace(')',''))\n",
        "sp['Bairro'] = teste4\n",
        "sp.tail()"
      ],
      "execution_count": 6,
      "outputs": [
        {
          "output_type": "execute_result",
          "data": {
            "text/html": [
              "<div>\n",
              "<style scoped>\n",
              "    .dataframe tbody tr th:only-of-type {\n",
              "        vertical-align: middle;\n",
              "    }\n",
              "\n",
              "    .dataframe tbody tr th {\n",
              "        vertical-align: top;\n",
              "    }\n",
              "\n",
              "    .dataframe thead th {\n",
              "        text-align: right;\n",
              "    }\n",
              "</style>\n",
              "<table border=\"1\" class=\"dataframe\">\n",
              "  <thead>\n",
              "    <tr style=\"text-align: right;\">\n",
              "      <th></th>\n",
              "      <th>City</th>\n",
              "      <th>Cep</th>\n",
              "      <th>Região</th>\n",
              "      <th>Bairro</th>\n",
              "    </tr>\n",
              "  </thead>\n",
              "  <tbody>\n",
              "    <tr>\n",
              "      <th>751</th>\n",
              "      <td>05508-xxx - University of São Paulo</td>\n",
              "      <td>05508</td>\n",
              "      <td>University of São Paulo</td>\n",
              "      <td>University of São Paulo</td>\n",
              "    </tr>\n",
              "    <tr>\n",
              "      <th>752</th>\n",
              "      <td>05600-xxx - São Paulo (Morumbi)</td>\n",
              "      <td>05600</td>\n",
              "      <td>São Paulo</td>\n",
              "      <td>Morumbi</td>\n",
              "    </tr>\n",
              "    <tr>\n",
              "      <th>753</th>\n",
              "      <td>05700-xxx - São Paulo (Campo Limpo)</td>\n",
              "      <td>05700</td>\n",
              "      <td>São Paulo</td>\n",
              "      <td>Campo Limpo</td>\n",
              "    </tr>\n",
              "    <tr>\n",
              "      <th>754</th>\n",
              "      <td>05800-xxx - São Paulo (Capão Redondo)</td>\n",
              "      <td>05800</td>\n",
              "      <td>São Paulo</td>\n",
              "      <td>Capão Redondo</td>\n",
              "    </tr>\n",
              "    <tr>\n",
              "      <th>772</th>\n",
              "      <td>08383-xxx - São Paulo (3ª Divisão)</td>\n",
              "      <td>08383</td>\n",
              "      <td>São Paulo</td>\n",
              "      <td>3ª Divisão</td>\n",
              "    </tr>\n",
              "  </tbody>\n",
              "</table>\n",
              "</div>"
            ],
            "text/plain": [
              "                                      City  ...                    Bairro\n",
              "751    05508-xxx - University of São Paulo  ...   University of São Paulo\n",
              "752        05600-xxx - São Paulo (Morumbi)  ...                   Morumbi\n",
              "753    05700-xxx - São Paulo (Campo Limpo)  ...               Campo Limpo\n",
              "754  05800-xxx - São Paulo (Capão Redondo)  ...             Capão Redondo\n",
              "772     08383-xxx - São Paulo (3ª Divisão)  ...                3ª Divisão\n",
              "\n",
              "[5 rows x 4 columns]"
            ]
          },
          "metadata": {
            "tags": []
          },
          "execution_count": 6
        }
      ]
    },
    {
      "cell_type": "code",
      "metadata": {
        "id": "lncK6xTYPtPL",
        "colab_type": "code",
        "colab": {
          "base_uri": "https://localhost:8080/",
          "height": 197
        },
        "outputId": "118b5f29-aa56-4a64-ad6b-677be9790afb"
      },
      "source": [
        "sp.drop(['City'],axis=1, inplace=True)\n",
        "sp.head()"
      ],
      "execution_count": 7,
      "outputs": [
        {
          "output_type": "execute_result",
          "data": {
            "text/html": [
              "<div>\n",
              "<style scoped>\n",
              "    .dataframe tbody tr th:only-of-type {\n",
              "        vertical-align: middle;\n",
              "    }\n",
              "\n",
              "    .dataframe tbody tr th {\n",
              "        vertical-align: top;\n",
              "    }\n",
              "\n",
              "    .dataframe thead th {\n",
              "        text-align: right;\n",
              "    }\n",
              "</style>\n",
              "<table border=\"1\" class=\"dataframe\">\n",
              "  <thead>\n",
              "    <tr style=\"text-align: right;\">\n",
              "      <th></th>\n",
              "      <th>Cep</th>\n",
              "      <th>Região</th>\n",
              "      <th>Bairro</th>\n",
              "    </tr>\n",
              "  </thead>\n",
              "  <tbody>\n",
              "    <tr>\n",
              "      <th>690</th>\n",
              "      <td>01010</td>\n",
              "      <td>São Paulo</td>\n",
              "      <td>São Paulo</td>\n",
              "    </tr>\n",
              "    <tr>\n",
              "      <th>691</th>\n",
              "      <td>01060</td>\n",
              "      <td>São Paulo</td>\n",
              "      <td>São Paulo</td>\n",
              "    </tr>\n",
              "    <tr>\n",
              "      <th>692</th>\n",
              "      <td>01070</td>\n",
              "      <td>São Paulo</td>\n",
              "      <td>São Paulo</td>\n",
              "    </tr>\n",
              "    <tr>\n",
              "      <th>693</th>\n",
              "      <td>01080</td>\n",
              "      <td>São Paulo</td>\n",
              "      <td>São Paulo</td>\n",
              "    </tr>\n",
              "    <tr>\n",
              "      <th>694</th>\n",
              "      <td>01090</td>\n",
              "      <td>São Paulo</td>\n",
              "      <td>São Paulo</td>\n",
              "    </tr>\n",
              "  </tbody>\n",
              "</table>\n",
              "</div>"
            ],
            "text/plain": [
              "       Cep      Região      Bairro\n",
              "690  01010   São Paulo   São Paulo\n",
              "691  01060   São Paulo   São Paulo\n",
              "692  01070   São Paulo   São Paulo\n",
              "693  01080   São Paulo   São Paulo\n",
              "694  01090   São Paulo   São Paulo"
            ]
          },
          "metadata": {
            "tags": []
          },
          "execution_count": 7
        }
      ]
    },
    {
      "cell_type": "code",
      "metadata": {
        "id": "amXIbg2aVRVR",
        "colab_type": "code",
        "colab": {}
      },
      "source": [
        "teste5 = sp['Bairro'].apply(lambda x: x.replace(' São Paulo','São Paulo'))\n",
        "sp['Bairro'] = teste5\n",
        "sp['Bairro'].str.contains('University')\n",
        "sp.drop(index=751, inplace=True)"
      ],
      "execution_count": 8,
      "outputs": []
    },
    {
      "cell_type": "code",
      "metadata": {
        "id": "HB-gGsJnKEC7",
        "colab_type": "code",
        "colab": {
          "base_uri": "https://localhost:8080/",
          "height": 197
        },
        "outputId": "b665a9c8-07d7-4259-cf00-fef94b746a2a"
      },
      "source": [
        "sp_df = pd.DataFrame({\"PostalCode\": sp['Cep'],\n",
        "                           \"Borough\": sp['Região'],\n",
        "                           \"Neighborhood\": sp['Bairro']})\n",
        "\n",
        "sp_df.head()"
      ],
      "execution_count": 9,
      "outputs": [
        {
          "output_type": "execute_result",
          "data": {
            "text/html": [
              "<div>\n",
              "<style scoped>\n",
              "    .dataframe tbody tr th:only-of-type {\n",
              "        vertical-align: middle;\n",
              "    }\n",
              "\n",
              "    .dataframe tbody tr th {\n",
              "        vertical-align: top;\n",
              "    }\n",
              "\n",
              "    .dataframe thead th {\n",
              "        text-align: right;\n",
              "    }\n",
              "</style>\n",
              "<table border=\"1\" class=\"dataframe\">\n",
              "  <thead>\n",
              "    <tr style=\"text-align: right;\">\n",
              "      <th></th>\n",
              "      <th>PostalCode</th>\n",
              "      <th>Borough</th>\n",
              "      <th>Neighborhood</th>\n",
              "    </tr>\n",
              "  </thead>\n",
              "  <tbody>\n",
              "    <tr>\n",
              "      <th>690</th>\n",
              "      <td>01010</td>\n",
              "      <td>São Paulo</td>\n",
              "      <td>São Paulo</td>\n",
              "    </tr>\n",
              "    <tr>\n",
              "      <th>691</th>\n",
              "      <td>01060</td>\n",
              "      <td>São Paulo</td>\n",
              "      <td>São Paulo</td>\n",
              "    </tr>\n",
              "    <tr>\n",
              "      <th>692</th>\n",
              "      <td>01070</td>\n",
              "      <td>São Paulo</td>\n",
              "      <td>São Paulo</td>\n",
              "    </tr>\n",
              "    <tr>\n",
              "      <th>693</th>\n",
              "      <td>01080</td>\n",
              "      <td>São Paulo</td>\n",
              "      <td>São Paulo</td>\n",
              "    </tr>\n",
              "    <tr>\n",
              "      <th>694</th>\n",
              "      <td>01090</td>\n",
              "      <td>São Paulo</td>\n",
              "      <td>São Paulo</td>\n",
              "    </tr>\n",
              "  </tbody>\n",
              "</table>\n",
              "</div>"
            ],
            "text/plain": [
              "    PostalCode     Borough Neighborhood\n",
              "690      01010   São Paulo    São Paulo\n",
              "691      01060   São Paulo    São Paulo\n",
              "692      01070   São Paulo    São Paulo\n",
              "693      01080   São Paulo    São Paulo\n",
              "694      01090   São Paulo    São Paulo"
            ]
          },
          "metadata": {
            "tags": []
          },
          "execution_count": 9
        }
      ]
    },
    {
      "cell_type": "code",
      "metadata": {
        "id": "jugjM9X-Uq1d",
        "colab_type": "code",
        "colab": {
          "base_uri": "https://localhost:8080/",
          "height": 33
        },
        "outputId": "297ac2b9-ef96-468f-fd02-bedde398bc9a"
      },
      "source": [
        "bairros_sp = ['São Paulo',\n",
        " 'Bom Retiro',\n",
        " 'Vila Buarque',\n",
        " 'Largo do Arouche',\n",
        " 'Consolação',\n",
        " 'Jardins',\n",
        " 'Liberdade',\n",
        " 'Santana',\n",
        " 'Vila Maria',\n",
        " 'Jaçanã',\n",
        " 'Tremembé',\n",
        " 'Mandaqui',\n",
        " 'Casa Verde',\n",
        " 'Cachoeirinha',\n",
        " 'Limão',\n",
        " 'Brasilândia',\n",
        " 'Freguesia do Ó',\n",
        " 'Brás',\n",
        " 'Mooca',\n",
        " 'Vila Alpina',\n",
        " 'Tatuapé',\n",
        " 'Aricanduva',\n",
        " 'Vila Matilde',\n",
        " 'Penha',\n",
        " 'Cangaíba',\n",
        " 'Ermelino Matarazzo',\n",
        " 'Sapopemba',\n",
        " 'Vila Mariana',\n",
        " 'Santa Cruz',\n",
        " 'Ipiranga',\n",
        " 'Jabaquara',\n",
        " 'Cidade Ademar',\n",
        " 'Itaim Bibi',\n",
        " 'Campo Belo',\n",
        " 'São Paulo Airport',\n",
        " 'Santo Amaro',\n",
        " 'Cidade Dutra',\n",
        " 'Guarapiranga',\n",
        " 'Barra Funda',\n",
        " 'Pirituba',\n",
        " 'Perus',\n",
        " 'Jaguaré',\n",
        " 'Pinheiros',\n",
        " 'Butantã',\n",
        " 'Morumbi',\n",
        " 'Campo Limpo',\n",
        " 'Capão Redondo',\n",
        " '3ª Divisão']\n",
        "len(bairros_sp)"
      ],
      "execution_count": 10,
      "outputs": [
        {
          "output_type": "execute_result",
          "data": {
            "text/plain": [
              "48"
            ]
          },
          "metadata": {
            "tags": []
          },
          "execution_count": 10
        }
      ]
    },
    {
      "cell_type": "code",
      "metadata": {
        "id": "BBy-xEUJT-or",
        "colab_type": "code",
        "colab": {}
      },
      "source": [
        "list1 = []\n",
        "list2 = []\n",
        "for bairro in bairros_sp:\n",
        "  address = bairro + ', São Paulo, BR'\n",
        "  geolocator = Nominatim(user_agent=\"ny_explorer\")\n",
        "  location = geolocator.geocode(address)\n",
        "  latitude = location.latitude\n",
        "  longitude = location.longitude\n",
        "  list1.append(latitude)\n",
        "  list2.append(longitude)"
      ],
      "execution_count": 11,
      "outputs": []
    },
    {
      "cell_type": "code",
      "metadata": {
        "id": "WTnZAjzGWyWP",
        "colab_type": "code",
        "colab": {
          "base_uri": "https://localhost:8080/",
          "height": 197
        },
        "outputId": "0c8864ff-33c4-4f10-e025-5f956a05ab3e"
      },
      "source": [
        "bairros = pd.DataFrame(columns =['Neighborhood,Latitude,Longitude'])\n",
        "bairros['Neighborhood'] = bairros_sp\n",
        "bairros['Latitude'] = list1\n",
        "bairros['Longitude'] = list2\n",
        "bairros.drop('Neighborhood,Latitude,Longitude',axis=1, inplace=True)\n",
        "bairros.head()\n"
      ],
      "execution_count": 16,
      "outputs": [
        {
          "output_type": "execute_result",
          "data": {
            "text/html": [
              "<div>\n",
              "<style scoped>\n",
              "    .dataframe tbody tr th:only-of-type {\n",
              "        vertical-align: middle;\n",
              "    }\n",
              "\n",
              "    .dataframe tbody tr th {\n",
              "        vertical-align: top;\n",
              "    }\n",
              "\n",
              "    .dataframe thead th {\n",
              "        text-align: right;\n",
              "    }\n",
              "</style>\n",
              "<table border=\"1\" class=\"dataframe\">\n",
              "  <thead>\n",
              "    <tr style=\"text-align: right;\">\n",
              "      <th></th>\n",
              "      <th>Neighborhood</th>\n",
              "      <th>Latitude</th>\n",
              "      <th>Longitude</th>\n",
              "    </tr>\n",
              "  </thead>\n",
              "  <tbody>\n",
              "    <tr>\n",
              "      <th>0</th>\n",
              "      <td>São Paulo</td>\n",
              "      <td>-23.550651</td>\n",
              "      <td>-46.633382</td>\n",
              "    </tr>\n",
              "    <tr>\n",
              "      <th>1</th>\n",
              "      <td>Bom Retiro</td>\n",
              "      <td>-23.527138</td>\n",
              "      <td>-46.636835</td>\n",
              "    </tr>\n",
              "    <tr>\n",
              "      <th>2</th>\n",
              "      <td>Vila Buarque</td>\n",
              "      <td>-23.544562</td>\n",
              "      <td>-46.647552</td>\n",
              "    </tr>\n",
              "    <tr>\n",
              "      <th>3</th>\n",
              "      <td>Largo do Arouche</td>\n",
              "      <td>-23.541626</td>\n",
              "      <td>-46.646265</td>\n",
              "    </tr>\n",
              "    <tr>\n",
              "      <th>4</th>\n",
              "      <td>Consolação</td>\n",
              "      <td>-23.557818</td>\n",
              "      <td>-46.660537</td>\n",
              "    </tr>\n",
              "  </tbody>\n",
              "</table>\n",
              "</div>"
            ],
            "text/plain": [
              "       Neighborhood   Latitude  Longitude\n",
              "0         São Paulo -23.550651 -46.633382\n",
              "1        Bom Retiro -23.527138 -46.636835\n",
              "2      Vila Buarque -23.544562 -46.647552\n",
              "3  Largo do Arouche -23.541626 -46.646265\n",
              "4        Consolação -23.557818 -46.660537"
            ]
          },
          "metadata": {
            "tags": []
          },
          "execution_count": 16
        }
      ]
    },
    {
      "cell_type": "code",
      "metadata": {
        "id": "0J5O2Dv0YKY7",
        "colab_type": "code",
        "colab": {
          "base_uri": "https://localhost:8080/",
          "height": 407
        },
        "outputId": "d2ca3e8d-a7ce-4d5f-e726-18a35102ecc4"
      },
      "source": [
        "sp_df_new = sp_df.merge(bairros, on=\"Neighborhood\", how=\"left\")\n",
        "sp_df_new"
      ],
      "execution_count": 18,
      "outputs": [
        {
          "output_type": "execute_result",
          "data": {
            "text/html": [
              "<div>\n",
              "<style scoped>\n",
              "    .dataframe tbody tr th:only-of-type {\n",
              "        vertical-align: middle;\n",
              "    }\n",
              "\n",
              "    .dataframe tbody tr th {\n",
              "        vertical-align: top;\n",
              "    }\n",
              "\n",
              "    .dataframe thead th {\n",
              "        text-align: right;\n",
              "    }\n",
              "</style>\n",
              "<table border=\"1\" class=\"dataframe\">\n",
              "  <thead>\n",
              "    <tr style=\"text-align: right;\">\n",
              "      <th></th>\n",
              "      <th>PostalCode</th>\n",
              "      <th>Borough</th>\n",
              "      <th>Neighborhood</th>\n",
              "      <th>Latitude</th>\n",
              "      <th>Longitude</th>\n",
              "    </tr>\n",
              "  </thead>\n",
              "  <tbody>\n",
              "    <tr>\n",
              "      <th>0</th>\n",
              "      <td>01010</td>\n",
              "      <td>São Paulo</td>\n",
              "      <td>São Paulo</td>\n",
              "      <td>-23.550651</td>\n",
              "      <td>-46.633382</td>\n",
              "    </tr>\n",
              "    <tr>\n",
              "      <th>1</th>\n",
              "      <td>01060</td>\n",
              "      <td>São Paulo</td>\n",
              "      <td>São Paulo</td>\n",
              "      <td>-23.550651</td>\n",
              "      <td>-46.633382</td>\n",
              "    </tr>\n",
              "    <tr>\n",
              "      <th>2</th>\n",
              "      <td>01070</td>\n",
              "      <td>São Paulo</td>\n",
              "      <td>São Paulo</td>\n",
              "      <td>-23.550651</td>\n",
              "      <td>-46.633382</td>\n",
              "    </tr>\n",
              "    <tr>\n",
              "      <th>3</th>\n",
              "      <td>01080</td>\n",
              "      <td>São Paulo</td>\n",
              "      <td>São Paulo</td>\n",
              "      <td>-23.550651</td>\n",
              "      <td>-46.633382</td>\n",
              "    </tr>\n",
              "    <tr>\n",
              "      <th>4</th>\n",
              "      <td>01090</td>\n",
              "      <td>São Paulo</td>\n",
              "      <td>São Paulo</td>\n",
              "      <td>-23.550651</td>\n",
              "      <td>-46.633382</td>\n",
              "    </tr>\n",
              "    <tr>\n",
              "      <th>...</th>\n",
              "      <td>...</td>\n",
              "      <td>...</td>\n",
              "      <td>...</td>\n",
              "      <td>...</td>\n",
              "      <td>...</td>\n",
              "    </tr>\n",
              "    <tr>\n",
              "      <th>58</th>\n",
              "      <td>05500</td>\n",
              "      <td>São Paulo</td>\n",
              "      <td>Butantã</td>\n",
              "      <td>-23.569131</td>\n",
              "      <td>-46.721874</td>\n",
              "    </tr>\n",
              "    <tr>\n",
              "      <th>59</th>\n",
              "      <td>05600</td>\n",
              "      <td>São Paulo</td>\n",
              "      <td>Morumbi</td>\n",
              "      <td>-23.596499</td>\n",
              "      <td>-46.717845</td>\n",
              "    </tr>\n",
              "    <tr>\n",
              "      <th>60</th>\n",
              "      <td>05700</td>\n",
              "      <td>São Paulo</td>\n",
              "      <td>Campo Limpo</td>\n",
              "      <td>-23.632558</td>\n",
              "      <td>-46.759666</td>\n",
              "    </tr>\n",
              "    <tr>\n",
              "      <th>61</th>\n",
              "      <td>05800</td>\n",
              "      <td>São Paulo</td>\n",
              "      <td>Capão Redondo</td>\n",
              "      <td>-23.671903</td>\n",
              "      <td>-46.779435</td>\n",
              "    </tr>\n",
              "    <tr>\n",
              "      <th>62</th>\n",
              "      <td>08383</td>\n",
              "      <td>São Paulo</td>\n",
              "      <td>3ª Divisão</td>\n",
              "      <td>-23.607466</td>\n",
              "      <td>-46.429690</td>\n",
              "    </tr>\n",
              "  </tbody>\n",
              "</table>\n",
              "<p>63 rows × 5 columns</p>\n",
              "</div>"
            ],
            "text/plain": [
              "   PostalCode      Borough   Neighborhood   Latitude  Longitude\n",
              "0       01010    São Paulo      São Paulo -23.550651 -46.633382\n",
              "1       01060    São Paulo      São Paulo -23.550651 -46.633382\n",
              "2       01070    São Paulo      São Paulo -23.550651 -46.633382\n",
              "3       01080    São Paulo      São Paulo -23.550651 -46.633382\n",
              "4       01090    São Paulo      São Paulo -23.550651 -46.633382\n",
              "..        ...          ...            ...        ...        ...\n",
              "58      05500   São Paulo         Butantã -23.569131 -46.721874\n",
              "59      05600   São Paulo         Morumbi -23.596499 -46.717845\n",
              "60      05700   São Paulo     Campo Limpo -23.632558 -46.759666\n",
              "61      05800   São Paulo   Capão Redondo -23.671903 -46.779435\n",
              "62      08383   São Paulo      3ª Divisão -23.607466 -46.429690\n",
              "\n",
              "[63 rows x 5 columns]"
            ]
          },
          "metadata": {
            "tags": []
          },
          "execution_count": 18
        }
      ]
    },
    {
      "cell_type": "code",
      "metadata": {
        "id": "vKVEjnSGZISi",
        "colab_type": "code",
        "colab": {}
      },
      "source": [
        "sp_df_new.dropna(inplace=True)"
      ],
      "execution_count": 26,
      "outputs": []
    },
    {
      "cell_type": "markdown",
      "metadata": {
        "id": "6FNe8vJ7Y4Mg",
        "colab_type": "text"
      },
      "source": [
        "#Visualizing the Neighborhoods"
      ]
    },
    {
      "cell_type": "code",
      "metadata": {
        "id": "81DMFC4oY3g3",
        "colab_type": "code",
        "colab": {
          "base_uri": "https://localhost:8080/",
          "height": 33
        },
        "outputId": "6b943adf-97c3-4b4f-f1b8-63c0320f50ac"
      },
      "source": [
        "address = 'Liberdade, São Paulo, BR'\n",
        "\n",
        "geolocator = Nominatim(user_agent=\"ny_explorer\")\n",
        "location = geolocator.geocode(address)\n",
        "latitude = location.latitude\n",
        "longitude = location.longitude\n",
        "print('The geograpical coordinate of Liberdade are {}, {}.'.format(latitude, longitude))"
      ],
      "execution_count": 27,
      "outputs": [
        {
          "output_type": "stream",
          "text": [
            "The geograpical coordinate of Liberdade are -23.566703500000003, -46.63180928373991.\n"
          ],
          "name": "stdout"
        }
      ]
    },
    {
      "cell_type": "code",
      "metadata": {
        "id": "SgcYANfYTLvj",
        "colab_type": "code",
        "colab": {
          "base_uri": "https://localhost:8080/",
          "height": 904
        },
        "outputId": "233e29b8-a95d-4d9d-e390-eda51a021061"
      },
      "source": [
        "# create map of Toronto using latitude and longitude values\n",
        "map_sp = folium.Map(location=[latitude, longitude], zoom_start=10)\n",
        "\n",
        "# add markers to map\n",
        "for lat, lng in zip(sp_df_new.Latitude,sp_df_new.Longitude):\n",
        "    folium.CircleMarker(\n",
        "        [lat, lng],\n",
        "        radius=5,\n",
        "        color='blue',\n",
        "        fill=True,\n",
        "        fill_color='#3186cc',\n",
        "        fill_opacity=0.7,\n",
        "        parse_html=False).add_to(map_sp)  \n",
        "    \n",
        "map_sp"
      ],
      "execution_count": 28,
      "outputs": [
        {
          "output_type": "execute_result",
          "data": {
            "text/html": [
              "<div style=\"width:100%;\"><div style=\"position:relative;width:100%;height:0;padding-bottom:60%;\"><span style=\"color:#565656\">Make this Notebook Trusted to load map: File -> Trust Notebook</span><iframe src=\"about:blank\" style=\"position:absolute;width:100%;height:100%;left:0;top:0;border:none !important;\" data-html=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 onload=\"this.contentDocument.open();this.contentDocument.write(atob(this.getAttribute('data-html')));this.contentDocument.close();\" allowfullscreen webkitallowfullscreen mozallowfullscreen></iframe></div></div>"
            ],
            "text/plain": [
              "<folium.folium.Map at 0x7f921ded7ef0>"
            ]
          },
          "metadata": {
            "tags": []
          },
          "execution_count": 28
        }
      ]
    },
    {
      "cell_type": "markdown",
      "metadata": {
        "id": "8b9RECrrUz3k",
        "colab_type": "text"
      },
      "source": [
        "## Let's analyze further and see how many Japanese restaurants there are in each neighborhood and borough. After it, graph the results."
      ]
    },
    {
      "cell_type": "code",
      "metadata": {
        "id": "qnobda-lc8oJ",
        "colab_type": "code",
        "colab": {}
      },
      "source": [
        "ny_data = sp_df_new[['Borough', 'Neighborhood','Latitude','Longitude']]"
      ],
      "execution_count": 39,
      "outputs": []
    },
    {
      "cell_type": "code",
      "metadata": {
        "id": "vwgK5jBmVlAg",
        "colab_type": "code",
        "colab": {
          "base_uri": "https://localhost:8080/",
          "height": 1000
        },
        "outputId": "170f4271-e518-4588-a604-aa030c0f995c"
      },
      "source": [
        "# prepare neighborhood list that contains japanese restaurants\n",
        "column_names=['Borough', 'Neighborhood', 'ID','Name']\n",
        "japanese_rest_ny=pd.DataFrame(columns=column_names)\n",
        "count=1\n",
        "for row in ny_data.values.tolist():\n",
        "    Borough, Neighborhood, Latitude, Longitude=row\n",
        "    venues = get_venues(Latitude,Longitude)\n",
        "    japanese_restaurants=venues[venues['Category']=='Japanese Restaurant']   \n",
        "    print('(',count,'/',len(ny_data),')','Japanese Restaurants in '+Neighborhood+', '+Borough+':'+str(len(japanese_restaurants)))\n",
        "    print(row)\n",
        "    for resturant_detail in japanese_restaurants.values.tolist():\n",
        "        id, name , category=resturant_detail\n",
        "        japanese_rest_ny = japanese_rest_ny.append({'Borough': Borough,\n",
        "                                                'Neighborhood': Neighborhood, \n",
        "                                                'ID': id,\n",
        "                                                'Name' : name\n",
        "                                               }, ignore_index=True)\n",
        "    count+=1"
      ],
      "execution_count": 59,
      "outputs": [
        {
          "output_type": "stream",
          "text": [
            "( 1 / 57 ) Japanese Restaurants in São Paulo,  São Paulo:2\n",
            "[' São Paulo', 'São Paulo', -23.5506507, -46.6333824]\n",
            "( 2 / 57 ) Japanese Restaurants in São Paulo,  São Paulo:2\n",
            "[' São Paulo', 'São Paulo', -23.5506507, -46.6333824]\n",
            "( 3 / 57 ) Japanese Restaurants in São Paulo,  São Paulo:2\n",
            "[' São Paulo', 'São Paulo', -23.5506507, -46.6333824]\n",
            "( 4 / 57 ) Japanese Restaurants in São Paulo,  São Paulo:2\n",
            "[' São Paulo', 'São Paulo', -23.5506507, -46.6333824]\n",
            "( 5 / 57 ) Japanese Restaurants in São Paulo,  São Paulo:2\n",
            "[' São Paulo', 'São Paulo', -23.5506507, -46.6333824]\n",
            "( 6 / 57 ) Japanese Restaurants in Bom Retiro,  São Paulo :0\n",
            "[' São Paulo ', 'Bom Retiro', -23.5271385, -46.636834846501365]\n",
            "( 7 / 57 ) Japanese Restaurants in São Paulo,  São Paulo:2\n",
            "[' São Paulo', 'São Paulo', -23.5506507, -46.6333824]\n",
            "( 8 / 57 ) Japanese Restaurants in São Paulo,  São Paulo:2\n",
            "[' São Paulo', 'São Paulo', -23.5506507, -46.6333824]\n",
            "( 9 / 57 ) Japanese Restaurants in São Paulo,  São Paulo:2\n",
            "[' São Paulo', 'São Paulo', -23.5506507, -46.6333824]\n",
            "( 10 / 57 ) Japanese Restaurants in São Paulo,  São Paulo:2\n",
            "[' São Paulo', 'São Paulo', -23.5506507, -46.6333824]\n",
            "( 11 / 57 ) Japanese Restaurants in São Paulo,  São Paulo:2\n",
            "[' São Paulo', 'São Paulo', -23.5506507, -46.6333824]\n",
            "( 12 / 57 ) Japanese Restaurants in São Paulo,  São Paulo:2\n",
            "[' São Paulo', 'São Paulo', -23.5506507, -46.6333824]\n",
            "( 13 / 57 ) Japanese Restaurants in São Paulo,  São Paulo:2\n",
            "[' São Paulo', 'São Paulo', -23.5506507, -46.6333824]\n",
            "( 14 / 57 ) Japanese Restaurants in São Paulo,  São Paulo:2\n",
            "[' São Paulo', 'São Paulo', -23.5506507, -46.6333824]\n",
            "( 15 / 57 ) Japanese Restaurants in São Paulo,  São Paulo:2\n",
            "[' São Paulo', 'São Paulo', -23.5506507, -46.6333824]\n",
            "( 16 / 57 ) Japanese Restaurants in Vila Buarque,  São Paulo :1\n",
            "[' São Paulo ', 'Vila Buarque', -23.5445621, -46.647552]\n",
            "( 17 / 57 ) Japanese Restaurants in Largo do Arouche,  São Paulo :1\n",
            "[' São Paulo ', 'Largo do Arouche', -23.541626, -46.64626465268302]\n",
            "( 18 / 57 ) Japanese Restaurants in Consolação,  São Paulo :0\n",
            "[' São Paulo ', 'Consolação', -23.557818, -46.6605373]\n",
            "( 19 / 57 ) Japanese Restaurants in Jardins,  São Paulo :0\n",
            "[' São Paulo ', 'Jardins', -22.3436278, -49.0169154]\n",
            "( 20 / 57 ) Japanese Restaurants in Liberdade,  São Paulo :1\n",
            "[' São Paulo ', 'Liberdade', -23.566703500000003, -46.63180928373991]\n",
            "( 21 / 57 ) Japanese Restaurants in Santana,  São Paulo :1\n",
            "[' São Paulo ', 'Santana', -23.499321000000002, -46.6289326497014]\n",
            "( 22 / 57 ) Japanese Restaurants in Vila Maria,  São Paulo :1\n",
            "[' São Paulo ', 'Vila Maria', -23.5131836, -46.5891557]\n",
            "( 23 / 57 ) Japanese Restaurants in Jaçanã,  São Paulo :1\n",
            "[' São Paulo ', 'Jaçanã', -23.4639591, -46.5824232]\n",
            "( 24 / 57 ) Japanese Restaurants in Tremembé,  São Paulo :0\n",
            "[' São Paulo ', 'Tremembé', -22.95714, -45.547526]\n",
            "( 25 / 57 ) Japanese Restaurants in Mandaqui,  São Paulo :0\n",
            "[' São Paulo ', 'Mandaqui', -23.4579405, -46.64124314362752]\n",
            "( 26 / 57 ) Japanese Restaurants in Casa Verde,  São Paulo :0\n",
            "[' São Paulo ', 'Casa Verde', -23.5059269, -46.6561379]\n",
            "( 27 / 57 ) Japanese Restaurants in Cachoeirinha,  São Paulo :0\n",
            "[' São Paulo ', 'Cachoeirinha', -23.449511450000003, -46.66366119497354]\n",
            "( 28 / 57 ) Japanese Restaurants in Limão,  São Paulo :1\n",
            "[' São Paulo ', 'Limão', -23.5033149, -46.6752722]\n",
            "( 29 / 57 ) Japanese Restaurants in Brasilândia,  São Paulo :0\n",
            "[' São Paulo ', 'Brasilândia', -23.4482715, -46.69026927092207]\n",
            "( 30 / 57 ) Japanese Restaurants in Freguesia do Ó,  São Paulo :0\n",
            "[' São Paulo ', 'Freguesia do Ó', -23.4874636, -46.6951317]\n",
            "( 31 / 57 ) Japanese Restaurants in Brás,  São Paulo :0\n",
            "[' São Paulo ', 'Brás', -23.5453263, -46.6164435]\n",
            "( 32 / 57 ) Japanese Restaurants in Tatuapé,  São Paulo :0\n",
            "[' São Paulo ', 'Tatuapé', -23.5402524, -46.5766424]\n",
            "( 33 / 57 ) Japanese Restaurants in Aricanduva,  São Paulo :0\n",
            "[' São Paulo ', 'Aricanduva', -23.5780239, -46.511454]\n",
            "( 34 / 57 ) Japanese Restaurants in Vila Matilde,  São Paulo :1\n",
            "[' São Paulo ', 'Vila Matilde', -23.536179, -46.524605]\n",
            "( 35 / 57 ) Japanese Restaurants in Penha,  São Paulo :1\n",
            "[' São Paulo ', 'Penha', -23.523683, -46.5437815]\n",
            "( 36 / 57 ) Japanese Restaurants in Cangaíba,  São Paulo :0\n",
            "[' São Paulo ', 'Cangaíba', -23.5058996, -46.5314253]\n",
            "( 37 / 57 ) Japanese Restaurants in Ermelino Matarazzo,  São Paulo :0\n",
            "[' São Paulo ', 'Ermelino Matarazzo', -23.491673499999997, -46.48407014366894]\n",
            "( 38 / 57 ) Japanese Restaurants in Sapopemba,  São Paulo :0\n",
            "[' São Paulo ', 'Sapopemba', -23.6043265, -46.5098851]\n",
            "( 39 / 57 ) Japanese Restaurants in Vila Mariana,  São Paulo :0\n",
            "[' São Paulo ', 'Vila Mariana', -23.5837, -46.63274082420693]\n",
            "( 40 / 57 ) Japanese Restaurants in São Paulo,  São Paulo:2\n",
            "[' São Paulo', 'São Paulo', -23.5506507, -46.6333824]\n",
            "( 41 / 57 ) Japanese Restaurants in São Paulo,  São Paulo:2\n",
            "[' São Paulo', 'São Paulo', -23.5506507, -46.6333824]\n",
            "( 42 / 57 ) Japanese Restaurants in Santa Cruz,  São Paulo :1\n",
            "[' São Paulo ', 'Santa Cruz', -23.5984141, -46.6370429]\n",
            "( 43 / 57 ) Japanese Restaurants in Ipiranga,  São Paulo :0\n",
            "[' São Paulo ', 'Ipiranga', -23.58927255, -46.60616206667652]\n",
            "( 44 / 57 ) Japanese Restaurants in Jabaquara,  São Paulo :0\n",
            "[' São Paulo ', 'Jabaquara', -23.6520656, -46.650037329076994]\n",
            "( 45 / 57 ) Japanese Restaurants in Cidade Ademar,  São Paulo :0\n",
            "[' São Paulo ', 'Cidade Ademar', -23.6730116, -46.6552806]\n",
            "( 46 / 57 ) Japanese Restaurants in Itaim Bibi,  São Paulo :8\n",
            "[' São Paulo ', 'Itaim Bibi', -23.5843807, -46.6784441]\n",
            "( 47 / 57 ) Japanese Restaurants in Campo Belo,  São Paulo :1\n",
            "[' São Paulo ', 'Campo Belo', -23.626730549999998, -46.669421429340844]\n",
            "( 48 / 57 ) Japanese Restaurants in São Paulo Airport, São Paulo Airport:0\n",
            "['São Paulo Airport', 'São Paulo Airport', -23.62739925, -46.6556753054773]\n",
            "( 49 / 57 ) Japanese Restaurants in Santo Amaro,  São Paulo :2\n",
            "[' São Paulo ', 'Santo Amaro', -23.6562303, -46.7191156]\n",
            "( 50 / 57 ) Japanese Restaurants in Guarapiranga,  São Paulo :0\n",
            "[' São Paulo ', 'Guarapiranga', -21.9640116, -48.235849361111114]\n",
            "( 51 / 57 ) Japanese Restaurants in Perus,  São Paulo :0\n",
            "[' São Paulo ', 'Perus', -23.4084915, -46.743643244261776]\n",
            "( 52 / 57 ) Japanese Restaurants in Pinheiros,  São Paulo :2\n",
            "[' São Paulo ', 'Pinheiros', -23.567249, -46.7019515]\n",
            "( 53 / 57 ) Japanese Restaurants in Butantã,  São Paulo :0\n",
            "[' São Paulo ', 'Butantã', -23.569131, -46.7218739532194]\n",
            "( 54 / 57 ) Japanese Restaurants in Morumbi,  São Paulo :0\n",
            "[' São Paulo ', 'Morumbi', -23.5964988, -46.7178446]\n",
            "( 55 / 57 ) Japanese Restaurants in Campo Limpo,  São Paulo :0\n",
            "[' São Paulo ', 'Campo Limpo', -23.632557650000003, -46.759666126372395]\n",
            "( 56 / 57 ) Japanese Restaurants in Capão Redondo,  São Paulo :0\n",
            "[' São Paulo ', 'Capão Redondo', -23.6719026, -46.779435420915036]\n",
            "( 57 / 57 ) Japanese Restaurants in 3ª Divisão,  São Paulo :0\n",
            "[' São Paulo ', '3ª Divisão', -23.607466, -46.4296902]\n"
          ],
          "name": "stdout"
        }
      ]
    },
    {
      "cell_type": "code",
      "metadata": {
        "id": "6oaSg6IGc7n9",
        "colab_type": "code",
        "colab": {}
      },
      "source": [
        "#japanese_rest_ny.to_csv('japanese_rest_ny_tocsv1.csv') # Save the information so far to a .csv file due to limited calls on FourSquare\n",
        "japanese_rest_ny.to_csv('japanese_rest_ny_tocsv1.csv') "
      ],
      "execution_count": 60,
      "outputs": []
    },
    {
      "cell_type": "code",
      "metadata": {
        "id": "rZxUu2AyaQub",
        "colab_type": "code",
        "colab": {
          "base_uri": "https://localhost:8080/",
          "height": 197
        },
        "outputId": "9f5b3842-e6c7-4714-fb93-bfa5c9b4f0c3"
      },
      "source": [
        "japanese_ny = pd.read_csv('japanese_rest_ny_tocsv1.csv')\n",
        "japanese_ny.tail()"
      ],
      "execution_count": 78,
      "outputs": [
        {
          "output_type": "execute_result",
          "data": {
            "text/html": [
              "<div>\n",
              "<style scoped>\n",
              "    .dataframe tbody tr th:only-of-type {\n",
              "        vertical-align: middle;\n",
              "    }\n",
              "\n",
              "    .dataframe tbody tr th {\n",
              "        vertical-align: top;\n",
              "    }\n",
              "\n",
              "    .dataframe thead th {\n",
              "        text-align: right;\n",
              "    }\n",
              "</style>\n",
              "<table border=\"1\" class=\"dataframe\">\n",
              "  <thead>\n",
              "    <tr style=\"text-align: right;\">\n",
              "      <th></th>\n",
              "      <th>Unnamed: 0</th>\n",
              "      <th>Borough</th>\n",
              "      <th>Neighborhood</th>\n",
              "      <th>ID</th>\n",
              "      <th>Name</th>\n",
              "    </tr>\n",
              "  </thead>\n",
              "  <tbody>\n",
              "    <tr>\n",
              "      <th>50</th>\n",
              "      <td>50</td>\n",
              "      <td>São Paulo</td>\n",
              "      <td>Campo Belo</td>\n",
              "      <td>54bee7ec498ed474b9b329c1</td>\n",
              "      <td>Tsuyoi Sushi Bar</td>\n",
              "    </tr>\n",
              "    <tr>\n",
              "      <th>51</th>\n",
              "      <td>51</td>\n",
              "      <td>São Paulo</td>\n",
              "      <td>Santo Amaro</td>\n",
              "      <td>531f2e6f498e97c0b46dd9b7</td>\n",
              "      <td>Takô</td>\n",
              "    </tr>\n",
              "    <tr>\n",
              "      <th>52</th>\n",
              "      <td>52</td>\n",
              "      <td>São Paulo</td>\n",
              "      <td>Santo Amaro</td>\n",
              "      <td>55269a43498ecaf17df513a9</td>\n",
              "      <td>Yujin Temaki &amp; Cia</td>\n",
              "    </tr>\n",
              "    <tr>\n",
              "      <th>53</th>\n",
              "      <td>53</td>\n",
              "      <td>São Paulo</td>\n",
              "      <td>Pinheiros</td>\n",
              "      <td>5a589ec71fa7635837a38170</td>\n",
              "      <td>Itsu Restaurante</td>\n",
              "    </tr>\n",
              "    <tr>\n",
              "      <th>54</th>\n",
              "      <td>54</td>\n",
              "      <td>São Paulo</td>\n",
              "      <td>Pinheiros</td>\n",
              "      <td>4d08e07c9232236a9d4bc053</td>\n",
              "      <td>Kaminari Sushi</td>\n",
              "    </tr>\n",
              "  </tbody>\n",
              "</table>\n",
              "</div>"
            ],
            "text/plain": [
              "    Unnamed: 0      Borough  ...                        ID                Name\n",
              "50          50   São Paulo   ...  54bee7ec498ed474b9b329c1    Tsuyoi Sushi Bar\n",
              "51          51   São Paulo   ...  531f2e6f498e97c0b46dd9b7                Takô\n",
              "52          52   São Paulo   ...  55269a43498ecaf17df513a9  Yujin Temaki & Cia\n",
              "53          53   São Paulo   ...  5a589ec71fa7635837a38170    Itsu Restaurante\n",
              "54          54   São Paulo   ...  4d08e07c9232236a9d4bc053      Kaminari Sushi\n",
              "\n",
              "[5 rows x 5 columns]"
            ]
          },
          "metadata": {
            "tags": []
          },
          "execution_count": 78
        }
      ]
    },
    {
      "cell_type": "code",
      "metadata": {
        "id": "OCn8imKOdMMY",
        "colab_type": "code",
        "colab": {
          "base_uri": "https://localhost:8080/",
          "height": 33
        },
        "outputId": "74b1ed13-b114-4d33-a50d-bb8fb7441350"
      },
      "source": [
        "japanese_rest_ny.shape"
      ],
      "execution_count": 62,
      "outputs": [
        {
          "output_type": "execute_result",
          "data": {
            "text/plain": [
              "(55, 4)"
            ]
          },
          "metadata": {
            "tags": []
          },
          "execution_count": 62
        }
      ]
    },
    {
      "cell_type": "code",
      "metadata": {
        "id": "F8mlIUcZdPVo",
        "colab_type": "code",
        "colab": {
          "base_uri": "https://localhost:8080/",
          "height": 437
        },
        "outputId": "13f3ea96-c01e-4672-b721-ec72f41fc1ee"
      },
      "source": [
        "japanese_rest_ny.groupby('Neighborhood')['ID'].count().plot.bar(figsize=(10,5))\n",
        "plt.title('Japanese Restaurants per Neighborhood: São Paulo', fontsize = 20)\n",
        "plt.xlabel('Neighborhood', fontsize = 15)\n",
        "plt.ylabel('No. of Japanese Restaurants', fontsize=15)\n",
        "plt.xticks(rotation = 'vertical')\n",
        "plt.legend()\n",
        "plt.show()"
      ],
      "execution_count": 63,
      "outputs": [
        {
          "output_type": "display_data",
          "data": {
            "image/png": "[encoded data removed]",
            "text/plain": [
              "<Figure size 720x360 with 1 Axes>"
            ]
          },
          "metadata": {
            "tags": [],
            "needs_background": "light"
          }
        }
      ]
    },
    {
      "cell_type": "markdown",
      "metadata": {
        "id": "KIjG-D6Hd2z8",
        "colab_type": "text"
      },
      "source": [
        "We have a problem with our data, because majority have neighborood 'São Paulo'. Let's drop this values"
      ]
    },
    {
      "cell_type": "code",
      "metadata": {
        "id": "eyFeHwjUd2Ag",
        "colab_type": "code",
        "colab": {}
      },
      "source": [
        "japanese_clean = japanese_rest_ny[japanese_rest_ny['Neighborhood'] != 'São Paulo']"
      ],
      "execution_count": 64,
      "outputs": []
    },
    {
      "cell_type": "code",
      "metadata": {
        "id": "vJTHLN_Tplcn",
        "colab_type": "code",
        "colab": {}
      },
      "source": [
        ""
      ],
      "execution_count": null,
      "outputs": []
    },
    {
      "cell_type": "code",
      "metadata": {
        "id": "g4ciDDTMdaqI",
        "colab_type": "code",
        "colab": {
          "base_uri": "https://localhost:8080/",
          "height": 437
        },
        "outputId": "5d105a40-999e-4902-bc4c-aac5ee0f3a6c"
      },
      "source": [
        "japanese_clean.groupby('Neighborhood')['ID'].count().plot.bar(figsize=(10,5))\n",
        "plt.title('Japanese Restaurants per Neighborhood: São Paulo', fontsize = 20)\n",
        "plt.xlabel('Neighborhood', fontsize = 15)\n",
        "plt.ylabel('No. of Japanese Restaurants', fontsize=15)\n",
        "plt.xticks(rotation = 'vertical')\n",
        "plt.legend()\n",
        "plt.show()"
      ],
      "execution_count": 65,
      "outputs": [
        {
          "output_type": "display_data",
          "data": {
            "image/png": "[encoded data removed]",
            "text/plain": [
              "<Figure size 720x360 with 1 Axes>"
            ]
          },
          "metadata": {
            "tags": [],
            "needs_background": "light"
          }
        }
      ]
    },
    {
      "cell_type": "code",
      "metadata": {
        "id": "O1FjWDEPeRJB",
        "colab_type": "code",
        "colab": {
          "base_uri": "https://localhost:8080/",
          "height": 77
        },
        "outputId": "4ad8bbaf-9b6a-4ce5-bd90-1bb9f9ae5a56"
      },
      "source": [
        "japanese_rest_ny[japanese_rest_ny['Neighborhood']=='Liberdade']"
      ],
      "execution_count": 66,
      "outputs": [
        {
          "output_type": "execute_result",
          "data": {
            "text/html": [
              "<div>\n",
              "<style scoped>\n",
              "    .dataframe tbody tr th:only-of-type {\n",
              "        vertical-align: middle;\n",
              "    }\n",
              "\n",
              "    .dataframe tbody tr th {\n",
              "        vertical-align: top;\n",
              "    }\n",
              "\n",
              "    .dataframe thead th {\n",
              "        text-align: right;\n",
              "    }\n",
              "</style>\n",
              "<table border=\"1\" class=\"dataframe\">\n",
              "  <thead>\n",
              "    <tr style=\"text-align: right;\">\n",
              "      <th></th>\n",
              "      <th>Borough</th>\n",
              "      <th>Neighborhood</th>\n",
              "      <th>ID</th>\n",
              "      <th>Name</th>\n",
              "    </tr>\n",
              "  </thead>\n",
              "  <tbody>\n",
              "    <tr>\n",
              "      <th>30</th>\n",
              "      <td>São Paulo</td>\n",
              "      <td>Liberdade</td>\n",
              "      <td>5d55e8a3a69e870007d12703</td>\n",
              "      <td>Nawaki Sushi</td>\n",
              "    </tr>\n",
              "  </tbody>\n",
              "</table>\n",
              "</div>"
            ],
            "text/plain": [
              "        Borough Neighborhood                        ID          Name\n",
              "30   São Paulo     Liberdade  5d55e8a3a69e870007d12703  Nawaki Sushi"
            ]
          },
          "metadata": {
            "tags": []
          },
          "execution_count": 66
        }
      ]
    },
    {
      "cell_type": "code",
      "metadata": {
        "id": "6oleliOxeiUQ",
        "colab_type": "code",
        "colab": {
          "base_uri": "https://localhost:8080/",
          "height": 287
        },
        "outputId": "5f056df7-20ce-41c4-e6e4-f98b62265526"
      },
      "source": [
        "japanese_rest_ny[japanese_rest_ny['Neighborhood']=='Itaim Bibi']"
      ],
      "execution_count": 67,
      "outputs": [
        {
          "output_type": "execute_result",
          "data": {
            "text/html": [
              "<div>\n",
              "<style scoped>\n",
              "    .dataframe tbody tr th:only-of-type {\n",
              "        vertical-align: middle;\n",
              "    }\n",
              "\n",
              "    .dataframe tbody tr th {\n",
              "        vertical-align: top;\n",
              "    }\n",
              "\n",
              "    .dataframe thead th {\n",
              "        text-align: right;\n",
              "    }\n",
              "</style>\n",
              "<table border=\"1\" class=\"dataframe\">\n",
              "  <thead>\n",
              "    <tr style=\"text-align: right;\">\n",
              "      <th></th>\n",
              "      <th>Borough</th>\n",
              "      <th>Neighborhood</th>\n",
              "      <th>ID</th>\n",
              "      <th>Name</th>\n",
              "    </tr>\n",
              "  </thead>\n",
              "  <tbody>\n",
              "    <tr>\n",
              "      <th>42</th>\n",
              "      <td>São Paulo</td>\n",
              "      <td>Itaim Bibi</td>\n",
              "      <td>4e375379fa7606f143fa99c8</td>\n",
              "      <td>OHKA</td>\n",
              "    </tr>\n",
              "    <tr>\n",
              "      <th>43</th>\n",
              "      <td>São Paulo</td>\n",
              "      <td>Itaim Bibi</td>\n",
              "      <td>50b8af34e4b01367264841f2</td>\n",
              "      <td>Nakka</td>\n",
              "    </tr>\n",
              "    <tr>\n",
              "      <th>44</th>\n",
              "      <td>São Paulo</td>\n",
              "      <td>Itaim Bibi</td>\n",
              "      <td>57c997e9498e5f2030c47638</td>\n",
              "      <td>Tatá Sushi</td>\n",
              "    </tr>\n",
              "    <tr>\n",
              "      <th>45</th>\n",
              "      <td>São Paulo</td>\n",
              "      <td>Itaim Bibi</td>\n",
              "      <td>4e172e8118388d0d26866aa2</td>\n",
              "      <td>Kibo Sushi</td>\n",
              "    </tr>\n",
              "    <tr>\n",
              "      <th>46</th>\n",
              "      <td>São Paulo</td>\n",
              "      <td>Itaim Bibi</td>\n",
              "      <td>5a385f046fa81f01a587c37b</td>\n",
              "      <td>Magô</td>\n",
              "    </tr>\n",
              "    <tr>\n",
              "      <th>47</th>\n",
              "      <td>São Paulo</td>\n",
              "      <td>Itaim Bibi</td>\n",
              "      <td>50b15551e4b099c54ae15145</td>\n",
              "      <td>Kappa Sushi Bar</td>\n",
              "    </tr>\n",
              "    <tr>\n",
              "      <th>48</th>\n",
              "      <td>São Paulo</td>\n",
              "      <td>Itaim Bibi</td>\n",
              "      <td>4b6ec721f964a52030ca2ce3</td>\n",
              "      <td>Kosushi</td>\n",
              "    </tr>\n",
              "    <tr>\n",
              "      <th>49</th>\n",
              "      <td>São Paulo</td>\n",
              "      <td>Itaim Bibi</td>\n",
              "      <td>57c87d94498e289da513bbf9</td>\n",
              "      <td>Ryo Gastronomia</td>\n",
              "    </tr>\n",
              "  </tbody>\n",
              "</table>\n",
              "</div>"
            ],
            "text/plain": [
              "        Borough Neighborhood                        ID             Name\n",
              "42   São Paulo    Itaim Bibi  4e375379fa7606f143fa99c8             OHKA\n",
              "43   São Paulo    Itaim Bibi  50b8af34e4b01367264841f2            Nakka\n",
              "44   São Paulo    Itaim Bibi  57c997e9498e5f2030c47638       Tatá Sushi\n",
              "45   São Paulo    Itaim Bibi  4e172e8118388d0d26866aa2       Kibo Sushi\n",
              "46   São Paulo    Itaim Bibi  5a385f046fa81f01a587c37b             Magô\n",
              "47   São Paulo    Itaim Bibi  50b15551e4b099c54ae15145  Kappa Sushi Bar\n",
              "48   São Paulo    Itaim Bibi  4b6ec721f964a52030ca2ce3          Kosushi\n",
              "49   São Paulo    Itaim Bibi  57c87d94498e289da513bbf9  Ryo Gastronomia"
            ]
          },
          "metadata": {
            "tags": []
          },
          "execution_count": 67
        }
      ]
    },
    {
      "cell_type": "markdown",
      "metadata": {
        "id": "FxTrS1kTUz34",
        "colab_type": "text"
      },
      "source": [
        "So the Itaim Bibi has the highest number of Japanese Restaurants with a total count of 8."
      ]
    },
    {
      "cell_type": "markdown",
      "metadata": {
        "id": "3tSjInn7k4UD",
        "colab_type": "text"
      },
      "source": [
        "# Business Analysis\n",
        "\n",
        "Areas with the tradition of the same kind of restaurants can be a two-edged sword. In these areas, people already expect to find those kinds of restaurants. Therefore, marketing is automatic. On the other side, competition is fierce.\n",
        "\n",
        "Places with little or no tradition with this kind of restaurant can be an excellent place to start because there is no competition. But maybe the neighborhood is not used for the type of food.\n",
        "\n",
        "In our analysis, the majority of restaurants are in Itaim Bibi. But I think it is underreported. I believe a more in-depth analysis should be done. Liberdade is a well know place with Japanese culture, and the search returned only one restaurant. \n",
        "\n",
        "In São Paulo, I believe any place is an excellent place to open a Japanese restaurant. The population loves this kind of food. But I think in the nearby areas of Liberdade Neighborhood would be the best place.\n",
        "\n"
      ]
    },
    {
      "cell_type": "markdown",
      "metadata": {
        "id": "qDczix7BlOqd",
        "colab_type": "text"
      },
      "source": [
        "# Conclusion"
      ]
    },
    {
      "cell_type": "markdown",
      "metadata": {
        "id": "bqk1gFunlMQD",
        "colab_type": "text"
      },
      "source": [
        "The purpose of this project was to identify São Paulo areas close to center with low restaurants (particularly Japanese restaurants) to aid stakeholders in narrowing down the search for the optimal location for a new Japanese restaurant. By calculating restaurant density distribution from Foursquare data, we first identified general boroughs that justify further analysis (Liberdade) and then generated an extensive collection of locations that satisfy some basic requirements regarding existing nearby restaurants. The clustering of those locations was then performed to create significant zones of interest (containing the most significant number of potential areas). The addresses of those zone centers were designed to be used as starting points for final exploration by stakeholders.\n",
        "\n",
        "The final decision on optimal restaurant location will be made by stakeholders based on specific characteristics of neighborhoods and places in every recommended zone. I am considering factors like the attractiveness of each position (proximity to Liberdade neighborhood), levels of noise/proximity to major roads, real estate availability, prices, social and economic dynamics of every area."
      ]
    }
  ]
}