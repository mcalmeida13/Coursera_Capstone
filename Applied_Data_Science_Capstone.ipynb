{
  "nbformat": 4,
  "nbformat_minor": 0,
  "metadata": {
    "colab": {
      "name": " Applied Data Science Capstone.ipynb",
      "provenance": [],
      "authorship_tag": "ABX9TyMtuaAJZGBtrsyrE48UJik9",
      "include_colab_link": true
    },
    "kernelspec": {
      "name": "python3",
      "display_name": "Python 3"
    }
  },
  "cells": [
    {
      "cell_type": "markdown",
      "metadata": {
        "id": "view-in-github",
        "colab_type": "text"
      },
      "source": [
        "<a href=\"https://colab.research.google.com/github/mcalmeida13/Coursera_Capstone/blob/master/Applied_Data_Science_Capstone.ipynb\" target=\"_parent\"><img src=\"https://colab.research.google.com/assets/colab-badge.svg\" alt=\"Open In Colab\"/></a>"
      ]
    },
    {
      "cell_type": "markdown",
      "metadata": {
        "id": "0UW28vhn0jw2",
        "colab_type": "text"
      },
      "source": [
        "#Applied Data Science Capstone\n",
        "\n",
        "This is the final project of a series courses by IBM called Data science Professional Certificate.\n",
        "\n",
        "https://www.coursera.org/professional-certificates/ibm-data-science"
      ]
    },
    {
      "cell_type": "code",
      "metadata": {
        "id": "Yti9u-8bz7Vy",
        "colab_type": "code",
        "colab": {}
      },
      "source": [
        "import pandas as pd\n",
        "import numpy as np"
      ],
      "execution_count": null,
      "outputs": []
    }
  ]
}