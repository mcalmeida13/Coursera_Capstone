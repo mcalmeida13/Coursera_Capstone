{
  "nbformat": 4,
  "nbformat_minor": 0,
  "metadata": {
    "colab": {
      "name": " Applied Data Science Capstone.ipynb",
      "provenance": [],
      "authorship_tag": "ABX9TyPwPiQOO51XBJcLdeBcxQZ+",
      "include_colab_link": true
    },
    "kernelspec": {
      "name": "python3",
      "display_name": "Python 3"
    }
  },
  "cells": [
    {
      "cell_type": "markdown",
      "metadata": {
        "id": "view-in-github",
        "colab_type": "text"
      },
      "source": [
        "<a href=\"https://colab.research.google.com/github/mcalmeida13/Coursera_Capstone/blob/master/Applied_Data_Science_Capstone.ipynb\" target=\"_parent\"><img src=\"https://colab.research.google.com/assets/colab-badge.svg\" alt=\"Open In Colab\"/></a>"
      ]
    },
    {
      "cell_type": "markdown",
      "metadata": {
        "id": "0UW28vhn0jw2",
        "colab_type": "text"
      },
      "source": [
        "#Applied Data Science Capstone\n",
        "\n",
        "This is the final project of a series courses by IBM called Data science Professional Certificate.\n",
        "\n",
        "https://www.coursera.org/professional-certificates/ibm-data-science"
      ]
    },
    {
      "cell_type": "code",
      "metadata": {
        "id": "Yti9u-8bz7Vy",
        "colab_type": "code",
        "colab": {}
      },
      "source": [
        "import pandas as pd\n",
        "import numpy as np"
      ],
      "execution_count": 2,
      "outputs": []
    },
    {
      "cell_type": "code",
      "metadata": {
        "id": "UqG-_Vdl390K",
        "colab_type": "code",
        "colab": {
          "base_uri": "https://localhost:8080/",
          "height": 34
        },
        "outputId": "1e51c367-4805-49ef-8bb1-3228a1514832"
      },
      "source": [
        "print(\"Hello Capstone Project Course!\")"
      ],
      "execution_count": 1,
      "outputs": [
        {
          "output_type": "stream",
          "text": [
            "Hello Capstone Project Course!\n"
          ],
          "name": "stdout"
        }
      ]
    },
    {
      "cell_type": "code",
      "metadata": {
        "id": "U0yoA_Kq4B_I",
        "colab_type": "code",
        "colab": {}
      },
      "source": [
        ""
      ],
      "execution_count": null,
      "outputs": []
    }
  ]
}